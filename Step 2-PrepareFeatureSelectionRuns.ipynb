{
 "cells": [
  {
   "cell_type": "markdown",
   "id": "5a557382",
   "metadata": {},
   "source": [
    "# About\n",
    "The procedure outlined in this notebook prepare documents for hpc. Feature selection runs with various paramter configurations will be performed for the training fold of each dataset. \n",
    "Each dataset will be stored in a folder, in which py files and sh files that are necessary for hpc computation will also be avaliable."
   ]
  },
  {
   "cell_type": "markdown",
   "id": "50ed92e6",
   "metadata": {},
   "source": [
    "# Parameter configurations"
   ]
  },
  {
   "cell_type": "code",
   "execution_count": 3,
   "id": "c6906eca",
   "metadata": {},
   "outputs": [],
   "source": [
    "arr_size_limite=list(range(2,64,2))\n",
    "prob_mutation=0.2\n",
    "prob_crossover=0.6\n",
    "num_generation=50\n",
    "population_size=100\n",
    "tour_size=6"
   ]
  },
  {
   "cell_type": "markdown",
   "id": "e4656e78",
   "metadata": {},
   "source": [
    "# Procedures"
   ]
  },
  {
   "cell_type": "markdown",
   "id": "067d602f",
   "metadata": {},
   "source": [
    "## GAMETES datasets"
   ]
  },
  {
   "cell_type": "code",
   "execution_count": null,
   "id": "48db1bdb",
   "metadata": {},
   "outputs": [],
   "source": [
    "# step 1: move datasets to folders\n",
    "# step 2: move GA scrs to folders\n",
    "# step 3: prepare sh file for hpc"
   ]
  },
  {
   "cell_type": "markdown",
   "id": "5c656b04",
   "metadata": {},
   "source": [
    "## GEO datasets"
   ]
  },
  {
   "cell_type": "code",
   "execution_count": null,
   "id": "cc0a4472",
   "metadata": {},
   "outputs": [],
   "source": [
    "# step 1: move datasets to folders\n",
    "# step 2: move GA scrs to folders\n",
    "# step 3: prepare sh file for hpc"
   ]
  },
  {
   "cell_type": "markdown",
   "id": "4e2ae859",
   "metadata": {},
   "source": [
    "## GWAS dataset"
   ]
  },
  {
   "cell_type": "code",
   "execution_count": null,
   "id": "3dc6218b",
   "metadata": {},
   "outputs": [],
   "source": [
    "# step 1: move datasets to folders\n",
    "# step 2: move GA scrs to folders\n",
    "# step 3: prepare sh file for hpc"
   ]
  }
 ],
 "metadata": {
  "kernelspec": {
   "display_name": "Python 3 (ipykernel)",
   "language": "python",
   "name": "python3"
  },
  "language_info": {
   "codemirror_mode": {
    "name": "ipython",
    "version": 3
   },
   "file_extension": ".py",
   "mimetype": "text/x-python",
   "name": "python",
   "nbconvert_exporter": "python",
   "pygments_lexer": "ipython3",
   "version": "3.9.12"
  }
 },
 "nbformat": 4,
 "nbformat_minor": 5
}
