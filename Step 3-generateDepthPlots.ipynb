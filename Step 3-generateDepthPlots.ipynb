{
 "cells": [
  {
   "cell_type": "markdown",
   "id": "9da52272",
   "metadata": {},
   "source": [
    "# About\n",
    "This note describes how to visualize the results of feature selection for different datasets using depth plots."
   ]
  },
  {
   "cell_type": "markdown",
   "id": "747e3797",
   "metadata": {},
   "source": [
    "# Procedures"
   ]
  },
  {
   "cell_type": "markdown",
   "id": "06d99a40",
   "metadata": {},
   "source": [
    "## GAMETES datasets"
   ]
  },
  {
   "cell_type": "code",
   "execution_count": null,
   "id": "8d9c9886",
   "metadata": {},
   "outputs": [],
   "source": []
  },
  {
   "cell_type": "markdown",
   "id": "05999bea",
   "metadata": {},
   "source": [
    "## GEO datasets"
   ]
  },
  {
   "cell_type": "code",
   "execution_count": null,
   "id": "ad13046c",
   "metadata": {},
   "outputs": [],
   "source": []
  },
  {
   "cell_type": "markdown",
   "id": "adc79d1b",
   "metadata": {},
   "source": [
    "## GWAS dataset"
   ]
  },
  {
   "cell_type": "code",
   "execution_count": null,
   "id": "16f04c40",
   "metadata": {},
   "outputs": [],
   "source": []
  }
 ],
 "metadata": {
  "kernelspec": {
   "display_name": "Python 3 (ipykernel)",
   "language": "python",
   "name": "python3"
  },
  "language_info": {
   "codemirror_mode": {
    "name": "ipython",
    "version": 3
   },
   "file_extension": ".py",
   "mimetype": "text/x-python",
   "name": "python",
   "nbconvert_exporter": "python",
   "pygments_lexer": "ipython3",
   "version": "3.9.12"
  }
 },
 "nbformat": 4,
 "nbformat_minor": 5
}
