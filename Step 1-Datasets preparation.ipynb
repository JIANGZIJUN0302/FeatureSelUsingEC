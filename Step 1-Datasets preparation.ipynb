{
 "cells": [
  {
   "cell_type": "markdown",
   "id": "7e18ac15",
   "metadata": {},
   "source": [
    "# About\n",
    "The procedures outlined in this notebook prepare datasets for our GA-based feature selection algorithm. Each dataset will be splited into training (80%) and testing (20%) folds.\n",
    "* The origional datasets are stored in /data folder \n",
    "* The processed datasets are stored in /res/train_test folder\n",
    "* The py files relevant to splitting data are in the /scr/dataPreparation folder\n"
   ]
  },
  {
   "cell_type": "markdown",
   "id": "5b710500",
   "metadata": {},
   "source": [
    "# Parameter configurations"
   ]
  },
  {
   "cell_type": "code",
   "execution_count": 1,
   "id": "489e140c",
   "metadata": {},
   "outputs": [],
   "source": [
    "train_pct=0.8 # the fraction of training fold\n",
    "seed=25 # random seed for the split"
   ]
  },
  {
   "cell_type": "markdown",
   "id": "ac211ad0",
   "metadata": {},
   "source": [
    "# Procedures"
   ]
  },
  {
   "cell_type": "markdown",
   "id": "1383ba6a",
   "metadata": {},
   "source": [
    "## GAMETES datasets"
   ]
  },
  {
   "cell_type": "code",
   "execution_count": null,
   "id": "d47a59a5",
   "metadata": {},
   "outputs": [],
   "source": [
    "# Process GAMETES datasets"
   ]
  },
  {
   "cell_type": "markdown",
   "id": "015c177d",
   "metadata": {},
   "source": [
    "## GEO datasets"
   ]
  },
  {
   "cell_type": "code",
   "execution_count": null,
   "id": "98f463bf",
   "metadata": {},
   "outputs": [],
   "source": [
    "# Process GEO dataset"
   ]
  },
  {
   "cell_type": "markdown",
   "id": "15ec373b",
   "metadata": {},
   "source": [
    "## GWAS dataset"
   ]
  },
  {
   "cell_type": "code",
   "execution_count": null,
   "id": "babee0c0",
   "metadata": {},
   "outputs": [],
   "source": [
    "# Process GWAS dataset \n",
    "# use pandas-plink package to I/O plink files"
   ]
  }
 ],
 "metadata": {
  "kernelspec": {
   "display_name": "Python 3 (ipykernel)",
   "language": "python",
   "name": "python3"
  },
  "language_info": {
   "codemirror_mode": {
    "name": "ipython",
    "version": 3
   },
   "file_extension": ".py",
   "mimetype": "text/x-python",
   "name": "python",
   "nbconvert_exporter": "python",
   "pygments_lexer": "ipython3",
   "version": "3.9.12"
  }
 },
 "nbformat": 4,
 "nbformat_minor": 5
}
