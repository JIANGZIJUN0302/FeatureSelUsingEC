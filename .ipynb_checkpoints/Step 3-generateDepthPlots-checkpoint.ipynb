{
 "cells": [
  {
   "cell_type": "markdown",
   "id": "2b847b54",
   "metadata": {},
   "source": [
    "# About\n",
    "This note describes how to visualize the results of feature selection for different datasets using depth plots."
   ]
  },
  {
   "cell_type": "code",
   "execution_count": null,
   "id": "94c05d76",
   "metadata": {},
   "outputs": [],
   "source": []
  }
 ],
 "metadata": {
  "kernelspec": {
   "display_name": "Python 3 (ipykernel)",
   "language": "python",
   "name": "python3"
  },
  "language_info": {
   "codemirror_mode": {
    "name": "ipython",
    "version": 3
   },
   "file_extension": ".py",
   "mimetype": "text/x-python",
   "name": "python",
   "nbconvert_exporter": "python",
   "pygments_lexer": "ipython3",
   "version": "3.9.12"
  }
 },
 "nbformat": 4,
 "nbformat_minor": 5
}
